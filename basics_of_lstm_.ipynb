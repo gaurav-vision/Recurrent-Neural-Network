{
  "nbformat": 4,
  "nbformat_minor": 0,
  "metadata": {
    "colab": {
      "name": "basics of lstm .ipynb",
      "provenance": []
    },
    "kernelspec": {
      "name": "python3",
      "display_name": "Python 3"
    }
  },
  "cells": [
    {
      "cell_type": "code",
      "metadata": {
        "id": "_Kmyes_Lxmok",
        "colab_type": "code",
        "colab": {
          "base_uri": "https://localhost:8080/",
          "height": 34
        },
        "outputId": "beabfd6a-cfb2-4106-efa1-c7acf450f47d"
      },
      "source": [
        "from keras.models import Sequential\n",
        "from keras.layers import Dense\n",
        "from keras.layers import LSTM\n",
        "from matplotlib import pyplot\n",
        "from numpy import array"
      ],
      "execution_count": 1,
      "outputs": [
        {
          "output_type": "stream",
          "text": [
            "Using TensorFlow backend.\n"
          ],
          "name": "stderr"
        }
      ]
    },
    {
      "cell_type": "code",
      "metadata": {
        "id": "fg5DPVnMyCPF",
        "colab_type": "code",
        "colab": {}
      },
      "source": [
        "def get_train():\n",
        "\tseq = [[0.0, 0.1], [0.1, 0.2], [0.2, 0.3], [0.3, 0.4], [0.4, 0.5]]\n",
        "\tseq = array(seq)\n",
        "\tX, y = seq[:, 0], seq[:, 1]\n",
        "\tX = X.reshape((len(X), 1, 1))\n",
        "\treturn X, y"
      ],
      "execution_count": 0,
      "outputs": []
    },
    {
      "cell_type": "code",
      "metadata": {
        "id": "8LwfmvQmyIMy",
        "colab_type": "code",
        "colab": {}
      },
      "source": [
        "# return validation data\n",
        "def get_val():\n",
        "\tseq = [[0.5, 0.6], [0.6, 0.7], [0.7, 0.8], [0.8, 0.9], [0.9, 1.0]]\n",
        "\tseq = array(seq)\n",
        "\tX, y = seq[:, 0], seq[:, 1]\n",
        "\tX = X.reshape((len(X), 1, 1))\n",
        "\treturn X, y"
      ],
      "execution_count": 0,
      "outputs": []
    },
    {
      "cell_type": "code",
      "metadata": {
        "id": "Jwo6ScsayLey",
        "colab_type": "code",
        "colab": {}
      },
      "source": [
        "# model define\n",
        "model = Sequential()\n",
        "model.add(LSTM(10, input_shape=(1,1)))\n",
        "model.add(Dense(1, activation='linear'))"
      ],
      "execution_count": 0,
      "outputs": []
    },
    {
      "cell_type": "code",
      "metadata": {
        "id": "6IXolykfys30",
        "colab_type": "code",
        "colab": {}
      },
      "source": [
        "#compile the model\n",
        "model.compile(loss='mse', optimizer='adam')"
      ],
      "execution_count": 0,
      "outputs": []
    },
    {
      "cell_type": "code",
      "metadata": {
        "id": "ZcbNotjHzIC_",
        "colab_type": "code",
        "colab": {
          "base_uri": "https://localhost:8080/",
          "height": 1000
        },
        "outputId": "5059a402-5410-428e-c3a6-13af3bf906d1"
      },
      "source": [
        "#Train the model\n",
        "X,y = get_train()\n",
        "valX, valY = get_val()\n",
        "history = model.fit(X, y, epochs=100, validation_data=(valX, valY), shuffle=False)"
      ],
      "execution_count": 7,
      "outputs": [
        {
          "output_type": "stream",
          "text": [
            "Train on 5 samples, validate on 5 samples\n",
            "Epoch 1/100\n",
            "5/5 [==============================] - 0s 100ms/step - loss: 0.1188 - val_loss: 0.7230\n",
            "Epoch 2/100\n",
            "5/5 [==============================] - 0s 1ms/step - loss: 0.1178 - val_loss: 0.7186\n",
            "Epoch 3/100\n",
            "5/5 [==============================] - 0s 1ms/step - loss: 0.1165 - val_loss: 0.7140\n",
            "Epoch 4/100\n",
            "5/5 [==============================] - 0s 1ms/step - loss: 0.1153 - val_loss: 0.7092\n",
            "Epoch 5/100\n",
            "5/5 [==============================] - 0s 656us/step - loss: 0.1139 - val_loss: 0.7042\n",
            "Epoch 6/100\n",
            "5/5 [==============================] - 0s 1ms/step - loss: 0.1125 - val_loss: 0.6993\n",
            "Epoch 7/100\n",
            "5/5 [==============================] - 0s 1ms/step - loss: 0.1112 - val_loss: 0.6944\n",
            "Epoch 8/100\n",
            "5/5 [==============================] - 0s 2ms/step - loss: 0.1098 - val_loss: 0.6894\n",
            "Epoch 9/100\n",
            "5/5 [==============================] - 0s 856us/step - loss: 0.1085 - val_loss: 0.6845\n",
            "Epoch 10/100\n",
            "5/5 [==============================] - 0s 2ms/step - loss: 0.1071 - val_loss: 0.6796\n",
            "Epoch 11/100\n",
            "5/5 [==============================] - 0s 749us/step - loss: 0.1058 - val_loss: 0.6746\n",
            "Epoch 12/100\n",
            "5/5 [==============================] - 0s 1ms/step - loss: 0.1045 - val_loss: 0.6697\n",
            "Epoch 13/100\n",
            "5/5 [==============================] - 0s 687us/step - loss: 0.1031 - val_loss: 0.6648\n",
            "Epoch 14/100\n",
            "5/5 [==============================] - 0s 751us/step - loss: 0.1018 - val_loss: 0.6599\n",
            "Epoch 15/100\n",
            "5/5 [==============================] - 0s 724us/step - loss: 0.1005 - val_loss: 0.6550\n",
            "Epoch 16/100\n",
            "5/5 [==============================] - 0s 816us/step - loss: 0.0992 - val_loss: 0.6501\n",
            "Epoch 17/100\n",
            "5/5 [==============================] - 0s 824us/step - loss: 0.0979 - val_loss: 0.6453\n",
            "Epoch 18/100\n",
            "5/5 [==============================] - 0s 644us/step - loss: 0.0966 - val_loss: 0.6404\n",
            "Epoch 19/100\n",
            "5/5 [==============================] - 0s 792us/step - loss: 0.0954 - val_loss: 0.6356\n",
            "Epoch 20/100\n",
            "5/5 [==============================] - 0s 772us/step - loss: 0.0941 - val_loss: 0.6308\n",
            "Epoch 21/100\n",
            "5/5 [==============================] - 0s 875us/step - loss: 0.0928 - val_loss: 0.6260\n",
            "Epoch 22/100\n",
            "5/5 [==============================] - 0s 1ms/step - loss: 0.0916 - val_loss: 0.6212\n",
            "Epoch 23/100\n",
            "5/5 [==============================] - 0s 1ms/step - loss: 0.0904 - val_loss: 0.6165\n",
            "Epoch 24/100\n",
            "5/5 [==============================] - 0s 983us/step - loss: 0.0891 - val_loss: 0.6118\n",
            "Epoch 25/100\n",
            "5/5 [==============================] - 0s 737us/step - loss: 0.0879 - val_loss: 0.6071\n",
            "Epoch 26/100\n",
            "5/5 [==============================] - 0s 852us/step - loss: 0.0867 - val_loss: 0.6025\n",
            "Epoch 27/100\n",
            "5/5 [==============================] - 0s 838us/step - loss: 0.0855 - val_loss: 0.5978\n",
            "Epoch 28/100\n",
            "5/5 [==============================] - 0s 736us/step - loss: 0.0844 - val_loss: 0.5931\n",
            "Epoch 29/100\n",
            "5/5 [==============================] - 0s 1ms/step - loss: 0.0832 - val_loss: 0.5885\n",
            "Epoch 30/100\n",
            "5/5 [==============================] - 0s 731us/step - loss: 0.0820 - val_loss: 0.5839\n",
            "Epoch 31/100\n",
            "5/5 [==============================] - 0s 900us/step - loss: 0.0809 - val_loss: 0.5793\n",
            "Epoch 32/100\n",
            "5/5 [==============================] - 0s 785us/step - loss: 0.0797 - val_loss: 0.5747\n",
            "Epoch 33/100\n",
            "5/5 [==============================] - 0s 775us/step - loss: 0.0786 - val_loss: 0.5702\n",
            "Epoch 34/100\n",
            "5/5 [==============================] - 0s 738us/step - loss: 0.0775 - val_loss: 0.5656\n",
            "Epoch 35/100\n",
            "5/5 [==============================] - 0s 1ms/step - loss: 0.0764 - val_loss: 0.5611\n",
            "Epoch 36/100\n",
            "5/5 [==============================] - 0s 977us/step - loss: 0.0753 - val_loss: 0.5565\n",
            "Epoch 37/100\n",
            "5/5 [==============================] - 0s 1ms/step - loss: 0.0742 - val_loss: 0.5520\n",
            "Epoch 38/100\n",
            "5/5 [==============================] - 0s 888us/step - loss: 0.0731 - val_loss: 0.5476\n",
            "Epoch 39/100\n",
            "5/5 [==============================] - 0s 653us/step - loss: 0.0720 - val_loss: 0.5431\n",
            "Epoch 40/100\n",
            "5/5 [==============================] - 0s 992us/step - loss: 0.0709 - val_loss: 0.5387\n",
            "Epoch 41/100\n",
            "5/5 [==============================] - 0s 1ms/step - loss: 0.0699 - val_loss: 0.5343\n",
            "Epoch 42/100\n",
            "5/5 [==============================] - 0s 806us/step - loss: 0.0688 - val_loss: 0.5298\n",
            "Epoch 43/100\n",
            "5/5 [==============================] - 0s 1ms/step - loss: 0.0678 - val_loss: 0.5254\n",
            "Epoch 44/100\n",
            "5/5 [==============================] - 0s 1ms/step - loss: 0.0668 - val_loss: 0.5211\n",
            "Epoch 45/100\n",
            "5/5 [==============================] - 0s 698us/step - loss: 0.0658 - val_loss: 0.5168\n",
            "Epoch 46/100\n",
            "5/5 [==============================] - 0s 1ms/step - loss: 0.0648 - val_loss: 0.5125\n",
            "Epoch 47/100\n",
            "5/5 [==============================] - 0s 1ms/step - loss: 0.0638 - val_loss: 0.5082\n",
            "Epoch 48/100\n",
            "5/5 [==============================] - 0s 988us/step - loss: 0.0628 - val_loss: 0.5039\n",
            "Epoch 49/100\n",
            "5/5 [==============================] - 0s 934us/step - loss: 0.0618 - val_loss: 0.4996\n",
            "Epoch 50/100\n",
            "5/5 [==============================] - 0s 974us/step - loss: 0.0609 - val_loss: 0.4954\n",
            "Epoch 51/100\n",
            "5/5 [==============================] - 0s 1ms/step - loss: 0.0599 - val_loss: 0.4912\n",
            "Epoch 52/100\n",
            "5/5 [==============================] - 0s 752us/step - loss: 0.0590 - val_loss: 0.4869\n",
            "Epoch 53/100\n",
            "5/5 [==============================] - 0s 1ms/step - loss: 0.0580 - val_loss: 0.4828\n",
            "Epoch 54/100\n",
            "5/5 [==============================] - 0s 1ms/step - loss: 0.0571 - val_loss: 0.4785\n",
            "Epoch 55/100\n",
            "5/5 [==============================] - 0s 1ms/step - loss: 0.0562 - val_loss: 0.4743\n",
            "Epoch 56/100\n",
            "5/5 [==============================] - 0s 1ms/step - loss: 0.0553 - val_loss: 0.4702\n",
            "Epoch 57/100\n",
            "5/5 [==============================] - 0s 1ms/step - loss: 0.0544 - val_loss: 0.4661\n",
            "Epoch 58/100\n",
            "5/5 [==============================] - 0s 1ms/step - loss: 0.0535 - val_loss: 0.4620\n",
            "Epoch 59/100\n",
            "5/5 [==============================] - 0s 923us/step - loss: 0.0526 - val_loss: 0.4578\n",
            "Epoch 60/100\n",
            "5/5 [==============================] - 0s 970us/step - loss: 0.0518 - val_loss: 0.4538\n",
            "Epoch 61/100\n",
            "5/5 [==============================] - 0s 969us/step - loss: 0.0509 - val_loss: 0.4497\n",
            "Epoch 62/100\n",
            "5/5 [==============================] - 0s 1ms/step - loss: 0.0501 - val_loss: 0.4456\n",
            "Epoch 63/100\n",
            "5/5 [==============================] - 0s 605us/step - loss: 0.0492 - val_loss: 0.4416\n",
            "Epoch 64/100\n",
            "5/5 [==============================] - 0s 829us/step - loss: 0.0484 - val_loss: 0.4376\n",
            "Epoch 65/100\n",
            "5/5 [==============================] - 0s 696us/step - loss: 0.0476 - val_loss: 0.4336\n",
            "Epoch 66/100\n",
            "5/5 [==============================] - 0s 734us/step - loss: 0.0468 - val_loss: 0.4296\n",
            "Epoch 67/100\n",
            "5/5 [==============================] - 0s 1ms/step - loss: 0.0460 - val_loss: 0.4256\n",
            "Epoch 68/100\n",
            "5/5 [==============================] - 0s 1ms/step - loss: 0.0452 - val_loss: 0.4217\n",
            "Epoch 69/100\n",
            "5/5 [==============================] - 0s 1ms/step - loss: 0.0444 - val_loss: 0.4177\n",
            "Epoch 70/100\n",
            "5/5 [==============================] - 0s 990us/step - loss: 0.0437 - val_loss: 0.4138\n",
            "Epoch 71/100\n",
            "5/5 [==============================] - 0s 1ms/step - loss: 0.0429 - val_loss: 0.4099\n",
            "Epoch 72/100\n",
            "5/5 [==============================] - 0s 887us/step - loss: 0.0422 - val_loss: 0.4061\n",
            "Epoch 73/100\n",
            "5/5 [==============================] - 0s 1ms/step - loss: 0.0414 - val_loss: 0.4022\n",
            "Epoch 74/100\n",
            "5/5 [==============================] - 0s 1ms/step - loss: 0.0407 - val_loss: 0.3984\n",
            "Epoch 75/100\n",
            "5/5 [==============================] - 0s 2ms/step - loss: 0.0400 - val_loss: 0.3946\n",
            "Epoch 76/100\n",
            "5/5 [==============================] - 0s 2ms/step - loss: 0.0393 - val_loss: 0.3908\n",
            "Epoch 77/100\n",
            "5/5 [==============================] - 0s 1ms/step - loss: 0.0386 - val_loss: 0.3870\n",
            "Epoch 78/100\n",
            "5/5 [==============================] - 0s 957us/step - loss: 0.0379 - val_loss: 0.3833\n",
            "Epoch 79/100\n",
            "5/5 [==============================] - 0s 1ms/step - loss: 0.0372 - val_loss: 0.3796\n",
            "Epoch 80/100\n",
            "5/5 [==============================] - 0s 956us/step - loss: 0.0366 - val_loss: 0.3759\n",
            "Epoch 81/100\n",
            "5/5 [==============================] - 0s 1ms/step - loss: 0.0359 - val_loss: 0.3722\n",
            "Epoch 82/100\n",
            "5/5 [==============================] - 0s 1ms/step - loss: 0.0353 - val_loss: 0.3686\n",
            "Epoch 83/100\n",
            "5/5 [==============================] - 0s 957us/step - loss: 0.0347 - val_loss: 0.3649\n",
            "Epoch 84/100\n",
            "5/5 [==============================] - 0s 1ms/step - loss: 0.0340 - val_loss: 0.3613\n",
            "Epoch 85/100\n",
            "5/5 [==============================] - 0s 876us/step - loss: 0.0334 - val_loss: 0.3577\n",
            "Epoch 86/100\n",
            "5/5 [==============================] - 0s 773us/step - loss: 0.0328 - val_loss: 0.3542\n",
            "Epoch 87/100\n",
            "5/5 [==============================] - 0s 821us/step - loss: 0.0322 - val_loss: 0.3506\n",
            "Epoch 88/100\n",
            "5/5 [==============================] - 0s 818us/step - loss: 0.0317 - val_loss: 0.3471\n",
            "Epoch 89/100\n",
            "5/5 [==============================] - 0s 854us/step - loss: 0.0311 - val_loss: 0.3436\n",
            "Epoch 90/100\n",
            "5/5 [==============================] - 0s 943us/step - loss: 0.0305 - val_loss: 0.3402\n",
            "Epoch 91/100\n",
            "5/5 [==============================] - 0s 1ms/step - loss: 0.0300 - val_loss: 0.3367\n",
            "Epoch 92/100\n",
            "5/5 [==============================] - 0s 1ms/step - loss: 0.0294 - val_loss: 0.3333\n",
            "Epoch 93/100\n",
            "5/5 [==============================] - 0s 988us/step - loss: 0.0289 - val_loss: 0.3299\n",
            "Epoch 94/100\n",
            "5/5 [==============================] - 0s 6ms/step - loss: 0.0284 - val_loss: 0.3265\n",
            "Epoch 95/100\n",
            "5/5 [==============================] - 0s 1ms/step - loss: 0.0279 - val_loss: 0.3232\n",
            "Epoch 96/100\n",
            "5/5 [==============================] - 0s 1ms/step - loss: 0.0274 - val_loss: 0.3199\n",
            "Epoch 97/100\n",
            "5/5 [==============================] - 0s 1ms/step - loss: 0.0269 - val_loss: 0.3166\n",
            "Epoch 98/100\n",
            "5/5 [==============================] - 0s 1ms/step - loss: 0.0264 - val_loss: 0.3134\n",
            "Epoch 99/100\n",
            "5/5 [==============================] - 0s 1ms/step - loss: 0.0260 - val_loss: 0.3102\n",
            "Epoch 100/100\n",
            "5/5 [==============================] - 0s 1ms/step - loss: 0.0255 - val_loss: 0.3070\n"
          ],
          "name": "stdout"
        }
      ]
    },
    {
      "cell_type": "code",
      "metadata": {
        "id": "J0aYz9VOzOzu",
        "colab_type": "code",
        "colab": {
          "base_uri": "https://localhost:8080/",
          "height": 295
        },
        "outputId": "70becf44-0b38-404d-fa54-13017571ba85"
      },
      "source": [
        "# plot train and validation loss\n",
        "pyplot.plot(history.history['loss'])\n",
        "pyplot.plot(history.history['val_loss'])\n",
        "pyplot.title('model train vs validation loss')\n",
        "pyplot.ylabel('loss')\n",
        "pyplot.xlabel('epoch')\n",
        "pyplot.legend(['train', 'validation'], loc='upper right')\n",
        "pyplot.show()"
      ],
      "execution_count": 8,
      "outputs": [
        {
          "output_type": "display_data",
          "data": {
            "image/png": "[encoded data removed]",
            "text/plain": [
              "<Figure size 432x288 with 1 Axes>"
            ]
          },
          "metadata": {
            "tags": [],
            "needs_background": "light"
          }
        }
      ]
    },
    {
      "cell_type": "code",
      "metadata": {
        "id": "Bj6RX9vazTBh",
        "colab_type": "code",
        "colab": {}
      },
      "source": [
        ""
      ],
      "execution_count": 0,
      "outputs": []
    }
  ]
}