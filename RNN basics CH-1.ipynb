{
 "cells": [
  {
   "cell_type": "markdown",
   "metadata": {},
   "source": [
    "## Many to one rnn (Sentiment Analysis)"
   ]
  },
  {
   "cell_type": "markdown",
   "metadata": {},
   "source": [
    "### Datasets"
   ]
  },
  {
   "cell_type": "code",
   "execution_count": 114,
   "metadata": {},
   "outputs": [],
   "source": [
    "train_data = {\n",
    "  'good': True,\n",
    "  'bad': False,\n",
    "  'happy': True,\n",
    "  'sad': False,\n",
    "  'not good': False,\n",
    "  'not bad': True,\n",
    "  'not happy': False,\n",
    "  'not sad': True,\n",
    "  'very good': True,\n",
    "  'very bad': False,\n",
    "  'very happy': True,\n",
    "  'very sad': False,\n",
    "  'i am happy': True,\n",
    "  'this is good': True,\n",
    "  'i am bad': False,\n",
    "  'this is bad': False,\n",
    "  'i am sad': False,\n",
    "  'this is sad': False,\n",
    "  'i am not happy': False,\n",
    "  'this is not good': False,\n",
    "  'i am not bad': True,\n",
    "  'this is not sad': True,\n",
    "  'i am very happy': True,\n",
    "  'this is very good': True,\n",
    "  'i am very bad': False,\n",
    "  'this is very sad': False,\n",
    "  'this is very happy': True,\n",
    "  'i am good not bad': True,\n",
    "  'this is good not bad': True,\n",
    "  'i am bad not good': False,\n",
    "  'i am good and happy': True,\n",
    "  'this is not good and not happy': False,\n",
    "  'i am not at all good': False,\n",
    "  'i am not at all bad': True,\n",
    "  'i am not at all happy': False,\n",
    "  'this is not at all sad': True,\n",
    "  'this is not at all happy': False,\n",
    "  'i am good right now': True,\n",
    "  'i am bad right now': False,\n",
    "  'this is bad right now': False,\n",
    "  'i am sad right now': False,\n",
    "  'i was good earlier': True,\n",
    "  'i was happy earlier': True,\n",
    "  'i was bad earlier': False,\n",
    "  'i was sad earlier': False,\n",
    "  'i am very bad right now': False,\n",
    "  'this is very good right now': True,\n",
    "  'this is very sad right now': False,\n",
    "  'this was bad earlier': False,\n",
    "  'this was very good earlier': True,\n",
    "  'this was very bad earlier': False,\n",
    "  'this was very happy earlier': True,\n",
    "  'this was very sad earlier': False,\n",
    "  'i was good and not bad earlier': True,\n",
    "  'i was not good and not happy earlier': False,\n",
    "  'i am not at all bad or sad right now': True,\n",
    "  'i am not at all good or happy right now': False,\n",
    "  'this was not happy and not good earlier': False,\n",
    "}\n",
    "\n",
    "# Here true is positive sentiments and False is negative sentiments"
   ]
  },
  {
   "cell_type": "code",
   "execution_count": 115,
   "metadata": {},
   "outputs": [],
   "source": [
    "test_data = {\n",
    "  'this is happy': True,\n",
    "  'i am good': True,\n",
    "  'this is not happy': False,\n",
    "  'i am not good': False,\n",
    "  'this is not bad': True,\n",
    "  'i am not sad': True,\n",
    "  'i am very good': True,\n",
    "  'this is very bad': False,\n",
    "  'i am very sad': False,\n",
    "  'this is bad not good': False,\n",
    "  'this is good and happy': True,\n",
    "  'i am not good and not happy': False,\n",
    "  'i am not at all sad': True,\n",
    "  'this is not at all good': False,\n",
    "  'this is not at all bad': True,\n",
    "  'this is good right now': True,\n",
    "  'this is sad right now': False,\n",
    "  'this is very bad right now': False,\n",
    "  'this was good earlier': True,\n",
    "  'i was not happy and not good earlier': False,\n",
    "}"
   ]
  },
  {
   "cell_type": "markdown",
   "metadata": {},
   "source": [
    "# Import libraries"
   ]
  },
  {
   "cell_type": "code",
   "execution_count": 116,
   "metadata": {},
   "outputs": [],
   "source": [
    "import numpy as np\n",
    "import random\n",
    "from numpy.random import randn"
   ]
  },
  {
   "cell_type": "markdown",
   "metadata": {},
   "source": [
    "# Create a dictionary for vocabulary"
   ]
  },
  {
   "cell_type": "code",
   "execution_count": 117,
   "metadata": {},
   "outputs": [],
   "source": [
    "vocab = list(set([w for text in train_data.keys() for w in text.split(' ')]))"
   ]
  },
  {
   "cell_type": "code",
   "execution_count": 118,
   "metadata": {},
   "outputs": [
    {
     "name": "stdout",
     "output_type": "stream",
     "text": [
      "18\n"
     ]
    },
    {
     "data": {
      "text/plain": [
       "['not',\n",
       " 'or',\n",
       " 'i',\n",
       " 'was',\n",
       " 'bad',\n",
       " 'now',\n",
       " 'all',\n",
       " 'right',\n",
       " 'happy',\n",
       " 'earlier',\n",
       " 'good',\n",
       " 'sad',\n",
       " 'this',\n",
       " 'am',\n",
       " 'is',\n",
       " 'at',\n",
       " 'very',\n",
       " 'and']"
      ]
     },
     "execution_count": 118,
     "metadata": {},
     "output_type": "execute_result"
    }
   ],
   "source": [
    "vocab_size = len(vocab)\n",
    "print(vocab_size)\n",
    "vocab # so there is 18 unique word."
   ]
  },
  {
   "cell_type": "code",
   "execution_count": 119,
   "metadata": {},
   "outputs": [],
   "source": [
    "# Assign interger index to each word\n",
    "word_to_idx = { w: i for i, w in enumerate(vocab) }\n",
    "idx_to_word = { i: w for i, w in enumerate(vocab) }\n"
   ]
  },
  {
   "cell_type": "code",
   "execution_count": 120,
   "metadata": {},
   "outputs": [
    {
     "data": {
      "text/plain": [
       "{'not': 0,\n",
       " 'or': 1,\n",
       " 'i': 2,\n",
       " 'was': 3,\n",
       " 'bad': 4,\n",
       " 'now': 5,\n",
       " 'all': 6,\n",
       " 'right': 7,\n",
       " 'happy': 8,\n",
       " 'earlier': 9,\n",
       " 'good': 10,\n",
       " 'sad': 11,\n",
       " 'this': 12,\n",
       " 'am': 13,\n",
       " 'is': 14,\n",
       " 'at': 15,\n",
       " 'very': 16,\n",
       " 'and': 17}"
      ]
     },
     "execution_count": 120,
     "metadata": {},
     "output_type": "execute_result"
    }
   ],
   "source": [
    "word_to_idx"
   ]
  },
  {
   "cell_type": "code",
   "execution_count": 121,
   "metadata": {},
   "outputs": [
    {
     "data": {
      "text/plain": [
       "{0: 'not',\n",
       " 1: 'or',\n",
       " 2: 'i',\n",
       " 3: 'was',\n",
       " 4: 'bad',\n",
       " 5: 'now',\n",
       " 6: 'all',\n",
       " 7: 'right',\n",
       " 8: 'happy',\n",
       " 9: 'earlier',\n",
       " 10: 'good',\n",
       " 11: 'sad',\n",
       " 12: 'this',\n",
       " 13: 'am',\n",
       " 14: 'is',\n",
       " 15: 'at',\n",
       " 16: 'very',\n",
       " 17: 'and'}"
      ]
     },
     "execution_count": 121,
     "metadata": {},
     "output_type": "execute_result"
    }
   ],
   "source": [
    "idx_to_word"
   ]
  },
  {
   "cell_type": "code",
   "execution_count": 122,
   "metadata": {},
   "outputs": [],
   "source": [
    "# Now we can call any word in rnn using index value and each word has unique index value. RNN can not understand\n",
    "# text so it is important"
   ]
  },
  {
   "cell_type": "markdown",
   "metadata": {},
   "source": [
    "### finally recall each x_i input as vector\n",
    "one hot vector incoding i am going to do here all element will be zero except for one \n",
    "Since we have 18 unique words so the size of one hot vector will be [18,1]"
   ]
  },
  {
   "cell_type": "code",
   "execution_count": 123,
   "metadata": {},
   "outputs": [],
   "source": [
    "def createInputs(text):\n",
    "    inputs = []\n",
    "    for w in text.split(' '):\n",
    "        v = np.zeros((vocab_size, 1))\n",
    "        v[word_to_idx[w]] = 1\n",
    "        inputs.append(v)\n",
    "    return inputs\n"
   ]
  },
  {
   "cell_type": "markdown",
   "metadata": {},
   "source": [
    "### Forward propogation and back propogation through time\n",
    "Now initialize the weight and biases"
   ]
  },
  {
   "cell_type": "code",
   "execution_count": 124,
   "metadata": {},
   "outputs": [],
   "source": [
    "class RNN:\n",
    "    # we are building Vanilla Recurrent neural networks, Vanilla rnn represent rnn has only one hidden layer.\n",
    "    \n",
    "    def __init__(self, input_size, output_size, hidden_size=64):\n",
    "        # weights\n",
    "        self.Whh = randn(hidden_size, hidden_size) / 1000\n",
    "        self.Wxh = randn(hidden_size, input_size) / 1000\n",
    "        self.Why = randn(output_size, hidden_size) / 1000\n",
    "        \n",
    "        # biases \n",
    "        self.bh = np.zeros((hidden_size, 1))\n",
    "        self.by = np.zeros((output_size, 1))\n",
    "        \n",
    "    def forward(self, inputs):\n",
    "        h = np.zeros((self.Whh.shape[0], 1))\n",
    "        \n",
    "        #for back propogation-----\n",
    "        self.last_inputs = inputs\n",
    "        self.last_hs = { 0: h }\n",
    "        #-------------------------\n",
    "        \n",
    "        for i, x in enumerate(inputs):\n",
    "            h = np.tanh(self.Wxh @ x + self.Whh @ h + self.bh)\n",
    "            self.last_hs[i + 1] = h\n",
    "            \n",
    "        y = self.Why @ h + self.by\n",
    "        \n",
    "        return y, h  \n",
    "    \n",
    "    def backprop(self, d_y, learn_rate=2e-2):\n",
    "        n = len(self.last_inputs)\n",
    "        #Calculate dL/dWhy and dL/dby\n",
    "        d_Why = d_y @ self.last_hs[n].T\n",
    "        d_by = d_y\n",
    "        \n",
    "        # Initialize dL/dWhh, dL/dWxh, and dL/dbh to zero.\n",
    "        \n",
    "        d_Whh = np.zeros(self.Whh.shape)\n",
    "        d_Wxh = np.zeros(self.Wxh.shape)\n",
    "        d_bh = np.zeros(self.bh.shape)\n",
    "        \n",
    "        # Calculate dL/dh for the last h\n",
    "        d_h = self.Why.T @ d_y\n",
    "        \n",
    "        # Back propogation through time\n",
    "        for t in reversed(range(n)):\n",
    "            # An intermediate value \n",
    "            temp = ((1 - self.last_hs[t+1] ** 2) * d_h)\n",
    "            d_bh += temp\n",
    "            d_Whh += temp @ self.last_hs[t].T\n",
    "            d_Wxh += temp @ self.last_inputs[t].T\n",
    "            \n",
    "            d_h = self.Whh @ temp\n",
    "            \n",
    "        #clip to prevent exploding gradient\n",
    "        \n",
    "        for d in [d_Wxh, d_Whh, d_Why, d_bh, d_by]:\n",
    "            np.clip(d, -1, 1, out=d)\n",
    "            \n",
    "        # Update weights and biases using gradient descent\n",
    "        self.Whh -= learn_rate * d_Whh\n",
    "        self.Wxh -= learn_rate * d_Wxh\n",
    "        self.Why -= learn_rate * d_Why\n",
    "        self.bh -= learn_rate * d_bh\n",
    "        self.by -= learn_rate * d_by\n",
    "        \n",
    "        \n",
    "        "
   ]
  },
  {
   "cell_type": "code",
   "execution_count": 125,
   "metadata": {},
   "outputs": [],
   "source": [
    "def softmax(xs):\n",
    "    return np.exp(xs) / sum(np.exp(xs))\n",
    "#initialize rnn\n",
    "\n"
   ]
  },
  {
   "cell_type": "code",
   "execution_count": 126,
   "metadata": {},
   "outputs": [],
   "source": [
    "rnn = RNN(vocab_size, 2)\n"
   ]
  },
  {
   "cell_type": "code",
   "execution_count": 128,
   "metadata": {},
   "outputs": [],
   "source": [
    "# loop for each training example\n",
    "\n",
    "for x, y in train_data.items():\n",
    "    inputs = createInputs(x)\n",
    "    target = int(y)\n",
    "    \n",
    "    #Forward\n",
    "    out, _ = rnn.forward(inputs)\n",
    "    probs = softmax(out)\n",
    "    \n",
    "    # Build dL/dy\n",
    "    d_L_d_y = probs\n",
    "    d_L_d_y[target] -= 1\n",
    "    \n",
    "    rnn.backprop(d_L_d_y)"
   ]
  },
  {
   "cell_type": "code",
   "execution_count": 129,
   "metadata": {},
   "outputs": [],
   "source": [
    "def processData(data, backprop=True):\n",
    "    items = list(data.items())\n",
    "    random.shuffle(items)\n",
    "    loss = 0\n",
    "    num_correct = 0\n",
    "    \n",
    "    for x, y in items:\n",
    "        inputs = createInputs(x)\n",
    "        target = int(y)\n",
    "        \n",
    "        # Forward\n",
    "        out, _ = rnn.forward(inputs)\n",
    "        probs = softmax(out)\n",
    "        \n",
    "        # Calculate loss / accuracy\n",
    "        loss -= np.log(probs[target])\n",
    "        num_correct += int(np.argmax(probs) == target)\n",
    "        \n",
    "        if backprop:\n",
    "            # Build dL/dy\n",
    "            d_L_d_y = probs\n",
    "            d_L_d_y[target] -= 1\n",
    "            # Backward\n",
    "            rnn.backprop(d_L_d_y)\n",
    "            \n",
    "    return loss / len(data), num_correct / len(data)\n"
   ]
  },
  {
   "cell_type": "code",
   "execution_count": 130,
   "metadata": {},
   "outputs": [
    {
     "name": "stdout",
     "output_type": "stream",
     "text": [
      "--- Epoch 100\n",
      "Train:\tLoss 0.688 | Accuracy: 0.569\n",
      "Test:\tLoss 0.699 | Accuracy: 0.500\n",
      "--- Epoch 200\n",
      "Train:\tLoss 0.660 | Accuracy: 0.672\n",
      "Test:\tLoss 0.715 | Accuracy: 0.450\n",
      "--- Epoch 300\n",
      "Train:\tLoss 0.661 | Accuracy: 0.586\n",
      "Test:\tLoss 0.695 | Accuracy: 0.500\n",
      "--- Epoch 400\n",
      "Train:\tLoss 0.155 | Accuracy: 0.948\n",
      "Test:\tLoss 0.102 | Accuracy: 1.000\n",
      "--- Epoch 500\n",
      "Train:\tLoss 0.008 | Accuracy: 1.000\n",
      "Test:\tLoss 0.304 | Accuracy: 0.950\n",
      "--- Epoch 600\n",
      "Train:\tLoss 0.004 | Accuracy: 1.000\n",
      "Test:\tLoss 0.280 | Accuracy: 0.950\n",
      "--- Epoch 700\n",
      "Train:\tLoss 0.002 | Accuracy: 1.000\n",
      "Test:\tLoss 0.402 | Accuracy: 0.950\n",
      "--- Epoch 800\n",
      "Train:\tLoss 0.002 | Accuracy: 1.000\n",
      "Test:\tLoss 0.436 | Accuracy: 0.950\n",
      "--- Epoch 900\n",
      "Train:\tLoss 0.001 | Accuracy: 1.000\n",
      "Test:\tLoss 0.432 | Accuracy: 0.950\n",
      "--- Epoch 1000\n",
      "Train:\tLoss 0.001 | Accuracy: 1.000\n",
      "Test:\tLoss 0.444 | Accuracy: 0.950\n"
     ]
    }
   ],
   "source": [
    "# Training loop\n",
    "for epoch in range(1000):\n",
    "  train_loss, train_acc = processData(train_data)\n",
    "\n",
    "  if epoch % 100 == 99:\n",
    "    print('--- Epoch %d' % (epoch + 1))\n",
    "    print('Train:\\tLoss %.3f | Accuracy: %.3f' % (train_loss, train_acc))\n",
    "\n",
    "    test_loss, test_acc = processData(test_data, backprop=False)\n",
    "    print('Test:\\tLoss %.3f | Accuracy: %.3f' % (test_loss, test_acc))"
   ]
  }
 ],
 "metadata": {
  "kernelspec": {
   "display_name": "Python 3",
   "language": "python",
   "name": "python3"
  },
  "language_info": {
   "codemirror_mode": {
    "name": "ipython",
    "version": 3
   },
   "file_extension": ".py",
   "mimetype": "text/x-python",
   "name": "python",
   "nbconvert_exporter": "python",
   "pygments_lexer": "ipython3",
   "version": "3.7.6"
  }
 },
 "nbformat": 4,
 "nbformat_minor": 4
}
