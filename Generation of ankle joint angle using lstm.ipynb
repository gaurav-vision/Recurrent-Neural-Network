{
 "cells": [
  {
   "cell_type": "code",
   "execution_count": 2,
   "metadata": {},
   "outputs": [],
   "source": [
    "import numpy as np\n",
    "import pandas as pd\n",
    "import matplotlib.pyplot as plt\n",
    "%matplotlib inline\n",
    "import math"
   ]
  },
  {
   "cell_type": "code",
   "execution_count": 3,
   "metadata": {},
   "outputs": [
    {
     "name": "stderr",
     "output_type": "stream",
     "text": [
      "Using TensorFlow backend.\n"
     ]
    }
   ],
   "source": [
    "from keras.models import Sequential\n",
    "from keras.layers import Dense, Activation\n",
    "from keras.layers import LSTM"
   ]
  },
  {
   "cell_type": "code",
   "execution_count": 4,
   "metadata": {},
   "outputs": [],
   "source": [
    "from sklearn.preprocessing import MinMaxScaler\n",
    "from sklearn.metrics import mean_squared_error"
   ]
  },
  {
   "cell_type": "code",
   "execution_count": 5,
   "metadata": {},
   "outputs": [],
   "source": [
    "np.random.seed(7)"
   ]
  },
  {
   "cell_type": "code",
   "execution_count": 7,
   "metadata": {},
   "outputs": [],
   "source": [
    "ankledata = pd.read_csv(r\"/home/gaurav/Desktop/biped data/ankleAngles.csv\", usecols=[1], names=['ankleData'])"
   ]
  },
  {
   "cell_type": "code",
   "execution_count": 8,
   "metadata": {},
   "outputs": [
    {
     "data": {
      "text/plain": [
       "(6489, 1)"
      ]
     },
     "execution_count": 8,
     "metadata": {},
     "output_type": "execute_result"
    }
   ],
   "source": [
    "ankledata.shape"
   ]
  },
  {
   "cell_type": "code",
   "execution_count": 9,
   "metadata": {},
   "outputs": [
    {
     "data": {
      "text/html": [
       "<div>\n",
       "<style scoped>\n",
       "    .dataframe tbody tr th:only-of-type {\n",
       "        vertical-align: middle;\n",
       "    }\n",
       "\n",
       "    .dataframe tbody tr th {\n",
       "        vertical-align: top;\n",
       "    }\n",
       "\n",
       "    .dataframe thead th {\n",
       "        text-align: right;\n",
       "    }\n",
       "</style>\n",
       "<table border=\"1\" class=\"dataframe\">\n",
       "  <thead>\n",
       "    <tr style=\"text-align: right;\">\n",
       "      <th></th>\n",
       "      <th>ankleData</th>\n",
       "    </tr>\n",
       "  </thead>\n",
       "  <tbody>\n",
       "    <tr>\n",
       "      <th>0</th>\n",
       "      <td>-0.436332</td>\n",
       "    </tr>\n",
       "    <tr>\n",
       "      <th>1</th>\n",
       "      <td>-0.436332</td>\n",
       "    </tr>\n",
       "    <tr>\n",
       "      <th>2</th>\n",
       "      <td>-0.436332</td>\n",
       "    </tr>\n",
       "    <tr>\n",
       "      <th>3</th>\n",
       "      <td>-0.436332</td>\n",
       "    </tr>\n",
       "    <tr>\n",
       "      <th>4</th>\n",
       "      <td>-0.436332</td>\n",
       "    </tr>\n",
       "  </tbody>\n",
       "</table>\n",
       "</div>"
      ],
      "text/plain": [
       "   ankleData\n",
       "0  -0.436332\n",
       "1  -0.436332\n",
       "2  -0.436332\n",
       "3  -0.436332\n",
       "4  -0.436332"
      ]
     },
     "execution_count": 9,
     "metadata": {},
     "output_type": "execute_result"
    }
   ],
   "source": [
    "ankledata.head()"
   ]
  },
  {
   "cell_type": "code",
   "execution_count": 10,
   "metadata": {},
   "outputs": [
    {
     "data": {
      "image/png": "[encoded data removed]",
      "text/plain": [
       "<Figure size 432x288 with 1 Axes>"
      ]
     },
     "metadata": {
      "needs_background": "light"
     },
     "output_type": "display_data"
    }
   ],
   "source": [
    "plt.plot(ankledata, color='blue')\n",
    "plt.title('Ankle angle [rad]')\n",
    "plt.xlabel('X axis')\n",
    "plt.ylabel('Ankle angle')\n",
    "plt.grid(True)\n",
    "plt.show()"
   ]
  },
  {
   "cell_type": "code",
   "execution_count": 11,
   "metadata": {},
   "outputs": [],
   "source": [
    "dataset = ankledata.values\n",
    "dataset = dataset.astype('float32')"
   ]
  },
  {
   "cell_type": "code",
   "execution_count": 12,
   "metadata": {},
   "outputs": [],
   "source": [
    "#Normalize the data set using MinMaxScaler scikit learn library\n",
    "scaler = MinMaxScaler(feature_range=(0,1))\n",
    "dataset = scaler.fit_transform(dataset)"
   ]
  },
  {
   "cell_type": "code",
   "execution_count": 13,
   "metadata": {},
   "outputs": [],
   "source": [
    "#split the dataset into train and test case\n",
    "train_size = int(len(dataset)*0.67)\n",
    "test_size = len(dataset) - train_size"
   ]
  },
  {
   "cell_type": "code",
   "execution_count": 14,
   "metadata": {},
   "outputs": [
    {
     "data": {
      "text/plain": [
       "(4347, 2142)"
      ]
     },
     "execution_count": 14,
     "metadata": {},
     "output_type": "execute_result"
    }
   ],
   "source": [
    "train_size, test_size"
   ]
  },
  {
   "cell_type": "code",
   "execution_count": 15,
   "metadata": {},
   "outputs": [],
   "source": [
    "train = dataset[:train_size,:]\n",
    "test = dataset[train_size:len(dataset),:]"
   ]
  },
  {
   "cell_type": "code",
   "execution_count": 16,
   "metadata": {},
   "outputs": [],
   "source": [
    "def create_dataset(dataset, lookback=1):\n",
    "    dataX, dataY = [], []\n",
    "    for i in range(len(dataset)-lookback-1):\n",
    "        a = dataset[i:(i+lookback),0]\n",
    "        dataX.append(a)\n",
    "        dataY.append(dataset[i+lookback,0])\n",
    "    return np.array(dataX), np.array(dataY)"
   ]
  },
  {
   "cell_type": "code",
   "execution_count": 17,
   "metadata": {},
   "outputs": [],
   "source": [
    "lookback = 50\n",
    "trainX, trainY = create_dataset(train, lookback)\n",
    "testX, testY = create_dataset(test, lookback)"
   ]
  },
  {
   "cell_type": "code",
   "execution_count": 18,
   "metadata": {},
   "outputs": [],
   "source": [
    "#Reshape input data to [samples, timesteps, features]\n",
    "trainX = np.reshape(trainX, (trainX.shape[0], 1, trainX.shape[1]))\n",
    "testX = np.reshape(testX, (testX.shape[0], 1, testX.shape[1]))"
   ]
  },
  {
   "cell_type": "code",
   "execution_count": 19,
   "metadata": {},
   "outputs": [],
   "source": [
    "model = Sequential()\n",
    "model.add(LSTM(10, input_shape=(1,lookback)))\n",
    "model.add(Dense(1))\n",
    "model.add(Activation('tanh'))\n",
    "#model.compile(loss='binary_crossentropy', optimizer='adam', metrics=['accuracy'])\n",
    "model.compile(loss='mean_squared_error', optimizer='adam')"
   ]
  },
  {
   "cell_type": "code",
   "execution_count": 20,
   "metadata": {},
   "outputs": [
    {
     "name": "stdout",
     "output_type": "stream",
     "text": [
      "Epoch 1/50\n",
      " - 24s - loss: 0.0054\n",
      "Epoch 2/50\n",
      " - 22s - loss: 0.0024\n",
      "Epoch 3/50\n",
      " - 23s - loss: 0.0019\n",
      "Epoch 4/50\n",
      " - 23s - loss: 0.0016\n",
      "Epoch 5/50\n",
      " - 22s - loss: 0.0015\n",
      "Epoch 6/50\n",
      " - 23s - loss: 0.0013\n",
      "Epoch 7/50\n",
      " - 26s - loss: 0.0012\n",
      "Epoch 8/50\n",
      " - 12s - loss: 0.0011\n",
      "Epoch 9/50\n",
      " - 12s - loss: 9.8994e-04\n",
      "Epoch 10/50\n",
      " - 12s - loss: 8.7437e-04\n",
      "Epoch 11/50\n",
      " - 12s - loss: 8.4947e-04\n",
      "Epoch 12/50\n",
      " - 13s - loss: 8.3248e-04\n",
      "Epoch 13/50\n",
      " - 11s - loss: 7.8364e-04\n",
      "Epoch 14/50\n",
      " - 11s - loss: 7.2897e-04\n",
      "Epoch 15/50\n",
      " - 11s - loss: 6.3748e-04\n",
      "Epoch 16/50\n",
      " - 12s - loss: 6.4113e-04\n",
      "Epoch 17/50\n",
      " - 11s - loss: 5.6298e-04\n",
      "Epoch 18/50\n",
      " - 11s - loss: 5.4291e-04\n",
      "Epoch 19/50\n",
      " - 12s - loss: 5.5631e-04\n",
      "Epoch 20/50\n",
      " - 12s - loss: 5.3261e-04\n",
      "Epoch 21/50\n",
      " - 12s - loss: 5.1885e-04\n",
      "Epoch 22/50\n",
      " - 11s - loss: 4.8053e-04\n",
      "Epoch 23/50\n",
      " - 11s - loss: 4.6672e-04\n",
      "Epoch 24/50\n",
      " - 11s - loss: 5.0197e-04\n",
      "Epoch 25/50\n",
      " - 13s - loss: 4.8586e-04\n",
      "Epoch 26/50\n",
      " - 12s - loss: 4.1499e-04\n",
      "Epoch 27/50\n",
      " - 13s - loss: 4.5236e-04\n",
      "Epoch 28/50\n",
      " - 12s - loss: 4.1534e-04\n",
      "Epoch 29/50\n",
      " - 12s - loss: 4.0021e-04\n",
      "Epoch 30/50\n",
      " - 12s - loss: 4.2509e-04\n",
      "Epoch 31/50\n",
      " - 12s - loss: 4.0355e-04\n",
      "Epoch 32/50\n",
      " - 11s - loss: 3.8557e-04\n",
      "Epoch 33/50\n",
      " - 12s - loss: 3.9410e-04\n",
      "Epoch 34/50\n",
      " - 11s - loss: 3.6370e-04\n",
      "Epoch 35/50\n",
      " - 13s - loss: 3.6629e-04\n",
      "Epoch 36/50\n",
      " - 11s - loss: 3.4338e-04\n",
      "Epoch 37/50\n",
      " - 11s - loss: 3.6261e-04\n",
      "Epoch 38/50\n",
      " - 11s - loss: 3.6200e-04\n",
      "Epoch 39/50\n",
      " - 13s - loss: 3.3028e-04\n",
      "Epoch 40/50\n",
      " - 12s - loss: 3.3202e-04\n",
      "Epoch 41/50\n",
      " - 12s - loss: 3.2846e-04\n",
      "Epoch 42/50\n",
      " - 11s - loss: 2.9522e-04\n",
      "Epoch 43/50\n",
      " - 11s - loss: 3.3484e-04\n",
      "Epoch 44/50\n",
      " - 13s - loss: 3.0164e-04\n",
      "Epoch 45/50\n",
      " - 12s - loss: 2.9344e-04\n",
      "Epoch 46/50\n",
      " - 12s - loss: 2.8389e-04\n",
      "Epoch 47/50\n",
      " - 13s - loss: 2.8199e-04\n",
      "Epoch 48/50\n",
      " - 14s - loss: 2.8154e-04\n",
      "Epoch 49/50\n",
      " - 11s - loss: 2.7177e-04\n",
      "Epoch 50/50\n",
      " - 12s - loss: 2.8633e-04\n"
     ]
    },
    {
     "data": {
      "text/plain": [
       "<keras.callbacks.callbacks.History at 0x7fbe6c1eab90>"
      ]
     },
     "execution_count": 20,
     "metadata": {},
     "output_type": "execute_result"
    }
   ],
   "source": [
    "model.fit(trainX, trainY, epochs=50, batch_size=1, verbose=2)"
   ]
  },
  {
   "cell_type": "code",
   "execution_count": 21,
   "metadata": {},
   "outputs": [],
   "source": [
    "trainPredict = model.predict(trainX)\n",
    "testPredict = model.predict(testX)"
   ]
  },
  {
   "cell_type": "code",
   "execution_count": 25,
   "metadata": {},
   "outputs": [],
   "source": [
    "trainPredict = scaler.inverse_transform(trainPredict)\n",
    "testPredict = scaler.inverse_transform(testPredict)"
   ]
  },
  {
   "cell_type": "code",
   "execution_count": 33,
   "metadata": {},
   "outputs": [],
   "source": [
    "trainY = scaler.inverse_transform(trainY)\n",
    "testY = scaler.inverse_transform([testY])"
   ]
  },
  {
   "cell_type": "code",
   "execution_count": 34,
   "metadata": {},
   "outputs": [
    {
     "data": {
      "text/plain": [
       "((4296, 1), (2091, 1))"
      ]
     },
     "execution_count": 34,
     "metadata": {},
     "output_type": "execute_result"
    }
   ],
   "source": [
    "trainPredict.shape, testPredict.shape"
   ]
  },
  {
   "cell_type": "code",
   "execution_count": 35,
   "metadata": {},
   "outputs": [
    {
     "data": {
      "text/plain": [
       "((1, 4296), (1, 2091))"
      ]
     },
     "execution_count": 35,
     "metadata": {},
     "output_type": "execute_result"
    }
   ],
   "source": [
    "trainY.shape, testY.shape"
   ]
  },
  {
   "cell_type": "code",
   "execution_count": 36,
   "metadata": {},
   "outputs": [
    {
     "name": "stdout",
     "output_type": "stream",
     "text": [
      "Train Score: 0.48 RMSE\n",
      "Test score: 0.46 RMSE\n"
     ]
    }
   ],
   "source": [
    "trainScore = math.sqrt(mean_squared_error(trainY[0], trainPredict[:,0]))\n",
    "print('Train Score: %.2f RMSE' %(trainScore))\n",
    "testScore = math.sqrt(mean_squared_error(testY[0], testPredict[:,0]))\n",
    "print('Test score: %.2f RMSE' %(testScore))"
   ]
  },
  {
   "cell_type": "code",
   "execution_count": 37,
   "metadata": {},
   "outputs": [],
   "source": [
    "trainPredictPlot = np.empty_like(dataset)\n",
    "trainPredictPlot[:,:] = np.nan\n",
    "trainPredictPlot[lookback:len(trainPredict)+lookback, :] = trainPredict"
   ]
  },
  {
   "cell_type": "code",
   "execution_count": 38,
   "metadata": {},
   "outputs": [],
   "source": [
    "testPredictPlot = np.empty_like(dataset)\n",
    "testPredictPlot[:,:] = np.nan\n",
    "testPredictPlot[len(trainPredict)+(lookback*2)+1:len(dataset)-1, :] = testPredict"
   ]
  },
  {
   "cell_type": "code",
   "execution_count": 40,
   "metadata": {},
   "outputs": [
    {
     "data": {
      "text/plain": [
       "[<matplotlib.lines.Line2D at 0x7fbe5823c250>]"
      ]
     },
     "execution_count": 40,
     "metadata": {},
     "output_type": "execute_result"
    },
    {
     "data": {
      "image/png": "[encoded data removed]",
      "text/plain": [
       "<Figure size 432x288 with 1 Axes>"
      ]
     },
     "metadata": {
      "needs_background": "light"
     },
     "output_type": "display_data"
    }
   ],
   "source": [
    "#plt.plot(scaler.inverse_transform(dataset), color='red')\n",
    "#plt.plot(ankledata)\n",
    "plt.plot(trainPredictPlot, color='blue')\n",
    "plt.plot(testPredictPlot, color='green')"
   ]
  },
  {
   "cell_type": "code",
   "execution_count": null,
   "metadata": {},
   "outputs": [],
   "source": []
  }
 ],
 "metadata": {
  "kernelspec": {
   "display_name": "Python 3",
   "language": "python",
   "name": "python3"
  },
  "language_info": {
   "codemirror_mode": {
    "name": "ipython",
    "version": 3
   },
   "file_extension": ".py",
   "mimetype": "text/x-python",
   "name": "python",
   "nbconvert_exporter": "python",
   "pygments_lexer": "ipython3",
   "version": "3.7.6"
  }
 },
 "nbformat": 4,
 "nbformat_minor": 4
}
