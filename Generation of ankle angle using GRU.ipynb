{
 "cells": [
  {
   "cell_type": "code",
   "execution_count": 58,
   "metadata": {},
   "outputs": [],
   "source": [
    "import numpy as np\n",
    "import pandas as pd\n",
    "import matplotlib.pyplot as plt\n",
    "%matplotlib inline\n",
    "import tensorflow \n",
    "import math"
   ]
  },
  {
   "cell_type": "code",
   "execution_count": 59,
   "metadata": {},
   "outputs": [],
   "source": [
    "from keras.models import Sequential\n",
    "from keras.layers import Dense\n",
    "from keras.layers import LSTM, GRU\n"
   ]
  },
  {
   "cell_type": "code",
   "execution_count": 60,
   "metadata": {},
   "outputs": [],
   "source": [
    "from sklearn.preprocessing import MinMaxScaler\n",
    "from sklearn.metrics import mean_squared_error"
   ]
  },
  {
   "cell_type": "code",
   "execution_count": 61,
   "metadata": {},
   "outputs": [],
   "source": [
    "ankle_data = pd.read_csv(r\"/home/gaurav/Desktop/biped data/ankleAngles.csv\", usecols=[1], names=['ankleData'])"
   ]
  },
  {
   "cell_type": "code",
   "execution_count": 62,
   "metadata": {},
   "outputs": [
    {
     "data": {
      "image/png": "[encoded data removed]",
      "text/plain": [
       "<Figure size 432x288 with 1 Axes>"
      ]
     },
     "metadata": {
      "needs_background": "light"
     },
     "output_type": "display_data"
    }
   ],
   "source": [
    "plt.plot(ankle_data, color='blue')\n",
    "plt.title(\"Ankle angle\")\n",
    "plt.xlabel(\"time\")\n",
    "plt.ylabel('Ankle Angle')\n",
    "plt.grid(True)\n",
    "plt.show()"
   ]
  },
  {
   "cell_type": "code",
   "execution_count": 63,
   "metadata": {},
   "outputs": [],
   "source": [
    "#convert the dataset from dataframe to array\n",
    "ankledata = ankle_data.values\n",
    "ankledata = ankledata.astype('float32')       #convert it into float"
   ]
  },
  {
   "cell_type": "code",
   "execution_count": 64,
   "metadata": {},
   "outputs": [],
   "source": [
    "#Normalize the dataset\n",
    "scaler = MinMaxScaler(feature_range=(0,1))\n",
    "dataset = scaler.fit_transform(ankledata)"
   ]
  },
  {
   "cell_type": "code",
   "execution_count": 65,
   "metadata": {},
   "outputs": [],
   "source": [
    "#Split the dataset into train and test part\n",
    "#We will use 70% for train and 30% for test case.\n",
    "traindata = int(len(dataset)*0.70)\n",
    "testdata = len(dataset) - traindata"
   ]
  },
  {
   "cell_type": "code",
   "execution_count": 66,
   "metadata": {},
   "outputs": [
    {
     "data": {
      "text/plain": [
       "(4542, 1947)"
      ]
     },
     "execution_count": 66,
     "metadata": {},
     "output_type": "execute_result"
    }
   ],
   "source": [
    "traindata , testdata"
   ]
  },
  {
   "cell_type": "code",
   "execution_count": 67,
   "metadata": {},
   "outputs": [],
   "source": [
    "train = dataset[:traindata,:]"
   ]
  },
  {
   "cell_type": "code",
   "execution_count": 68,
   "metadata": {},
   "outputs": [
    {
     "data": {
      "text/plain": [
       "(4542, 1)"
      ]
     },
     "execution_count": 68,
     "metadata": {},
     "output_type": "execute_result"
    }
   ],
   "source": [
    "train.shape"
   ]
  },
  {
   "cell_type": "code",
   "execution_count": 69,
   "metadata": {},
   "outputs": [],
   "source": [
    "test = dataset[traindata:,:]"
   ]
  },
  {
   "cell_type": "code",
   "execution_count": 70,
   "metadata": {},
   "outputs": [
    {
     "data": {
      "text/plain": [
       "(1947, 1)"
      ]
     },
     "execution_count": 70,
     "metadata": {},
     "output_type": "execute_result"
    }
   ],
   "source": [
    "test.shape"
   ]
  },
  {
   "cell_type": "code",
   "execution_count": 71,
   "metadata": {},
   "outputs": [],
   "source": [
    "def create_dataset(dataset, lookback=1):\n",
    "    dataX, dataY = [], []\n",
    "    for i in range(len(dataset) - lookback - 1):\n",
    "        a = dataset[i:(i+lookback), 0]\n",
    "        dataX.append(a)\n",
    "        dataY.append(dataset[i+lookback])\n",
    "    return np.array(dataX), np.array(dataY)"
   ]
  },
  {
   "cell_type": "code",
   "execution_count": 72,
   "metadata": {},
   "outputs": [],
   "source": [
    "lookback = 50\n",
    "trainX, trainY = create_dataset(train, lookback)\n",
    "testX, testY = create_dataset(test, lookback)"
   ]
  },
  {
   "cell_type": "code",
   "execution_count": 73,
   "metadata": {},
   "outputs": [],
   "source": [
    "#Reshape input data to [samples, timesteps, features]\n",
    "trainX = np.reshape(trainX, (trainX.shape[0], 1, trainX.shape[1]))\n",
    "testX = np.reshape(testX, (testX.shape[0], 1, testX.shape[1]))"
   ]
  },
  {
   "cell_type": "code",
   "execution_count": 74,
   "metadata": {},
   "outputs": [],
   "source": [
    "model = Sequential()\n",
    "model.add(LSTM(10, input_shape=(1,lookback)))\n",
    "model.add(Dense(1))\n",
    "#model.add(Activation('tanh'))\n",
    "#model.compile(loss='binary_crossentropy', optimizer='adam', metrics=['accuracy'])\n",
    "model.compile(loss='mean_squared_error', optimizer='adam')\n",
    "#model.fit(trainX, trainY, epochs=100, batch_size=1, verbose=2)"
   ]
  },
  {
   "cell_type": "code",
   "execution_count": 75,
   "metadata": {},
   "outputs": [],
   "source": [
    "model_gru = Sequential()\n",
    "model_gru.add(GRU(75, return_sequences=True, input_shape=(trainX.shape[1], trainX.shape[2])))\n",
    "model_gru.add(GRU(units=30, return_sequences=True))\n",
    "model_gru.add(GRU(units=30))\n",
    "model_gru.add(Dense(units=1))\n",
    "model_gru.compile(loss='mae', optimizer='adam')\n"
   ]
  },
  {
   "cell_type": "code",
   "execution_count": 76,
   "metadata": {},
   "outputs": [
    {
     "name": "stdout",
     "output_type": "stream",
     "text": [
      "Train on 4491 samples, validate on 1896 samples\n",
      "Epoch 1/10\n",
      "4491/4491 [==============================] - 3s 764us/step - loss: 0.1730 - val_loss: 0.0971\n",
      "Epoch 2/10\n",
      "4491/4491 [==============================] - 1s 130us/step - loss: 0.0676 - val_loss: 0.0486\n",
      "Epoch 3/10\n",
      "4491/4491 [==============================] - 1s 141us/step - loss: 0.0753 - val_loss: 0.0621\n",
      "Epoch 4/10\n",
      "4491/4491 [==============================] - 1s 155us/step - loss: 0.0482 - val_loss: 0.0359\n",
      "Epoch 5/10\n",
      "4491/4491 [==============================] - 1s 140us/step - loss: 0.0427 - val_loss: 0.0290\n",
      "Epoch 6/10\n",
      "4491/4491 [==============================] - 1s 149us/step - loss: 0.0365 - val_loss: 0.0369\n",
      "Epoch 7/10\n",
      "4491/4491 [==============================] - 1s 145us/step - loss: 0.0361 - val_loss: 0.0314\n",
      "Epoch 8/10\n",
      "4491/4491 [==============================] - 1s 125us/step - loss: 0.0419 - val_loss: 0.0246\n",
      "Epoch 9/10\n",
      "4491/4491 [==============================] - 1s 124us/step - loss: 0.0341 - val_loss: 0.0437\n",
      "Epoch 10/10\n",
      "4491/4491 [==============================] - 1s 126us/step - loss: 0.0634 - val_loss: 0.0378\n"
     ]
    }
   ],
   "source": [
    "gru_history = model_gru.fit(trainX, trainY, epochs=10, batch_size=64, validation_data=(testX, testY), shuffle=False)"
   ]
  },
  {
   "cell_type": "code",
   "execution_count": 77,
   "metadata": {},
   "outputs": [],
   "source": [
    "gru_model = Sequential()\n",
    "gru_model.add(GRU(10, input_shape=(1, lookback)))\n",
    "gru_model.add(Dense(units=1))\n",
    "gru_model.compile(loss='mae', optimizer='adam')"
   ]
  },
  {
   "cell_type": "code",
   "execution_count": 78,
   "metadata": {},
   "outputs": [
    {
     "name": "stdout",
     "output_type": "stream",
     "text": [
      "Epoch 1/50\n",
      " - 10s - loss: 0.0397\n",
      "Epoch 2/50\n",
      " - 9s - loss: 0.0251\n",
      "Epoch 3/50\n",
      " - 9s - loss: 0.0215\n",
      "Epoch 4/50\n",
      " - 9s - loss: 0.0189\n",
      "Epoch 5/50\n",
      " - 9s - loss: 0.0171\n",
      "Epoch 6/50\n",
      " - 9s - loss: 0.0168\n",
      "Epoch 7/50\n",
      " - 9s - loss: 0.0166\n",
      "Epoch 8/50\n",
      " - 9s - loss: 0.0149\n",
      "Epoch 9/50\n",
      " - 9s - loss: 0.0146\n",
      "Epoch 10/50\n",
      " - 9s - loss: 0.0141\n",
      "Epoch 11/50\n",
      " - 9s - loss: 0.0140\n",
      "Epoch 12/50\n",
      " - 9s - loss: 0.0134\n",
      "Epoch 13/50\n",
      " - 9s - loss: 0.0131\n",
      "Epoch 14/50\n",
      " - 9s - loss: 0.0133\n",
      "Epoch 15/50\n",
      " - 9s - loss: 0.0126\n",
      "Epoch 16/50\n",
      " - 9s - loss: 0.0131\n",
      "Epoch 17/50\n",
      " - 9s - loss: 0.0125\n",
      "Epoch 18/50\n",
      " - 9s - loss: 0.0124\n",
      "Epoch 19/50\n",
      " - 9s - loss: 0.0128\n",
      "Epoch 20/50\n",
      " - 9s - loss: 0.0121\n",
      "Epoch 21/50\n",
      " - 9s - loss: 0.0117\n",
      "Epoch 22/50\n",
      " - 9s - loss: 0.0120\n",
      "Epoch 23/50\n",
      " - 9s - loss: 0.0119\n",
      "Epoch 24/50\n",
      " - 9s - loss: 0.0117\n",
      "Epoch 25/50\n",
      " - 9s - loss: 0.0112\n",
      "Epoch 26/50\n",
      " - 9s - loss: 0.0116\n",
      "Epoch 27/50\n",
      " - 9s - loss: 0.0110\n",
      "Epoch 28/50\n",
      " - 9s - loss: 0.0114\n",
      "Epoch 29/50\n",
      " - 9s - loss: 0.0108\n",
      "Epoch 30/50\n",
      " - 9s - loss: 0.0114\n",
      "Epoch 31/50\n",
      " - 9s - loss: 0.0116\n",
      "Epoch 32/50\n",
      " - 9s - loss: 0.0108\n",
      "Epoch 33/50\n",
      " - 9s - loss: 0.0107\n",
      "Epoch 34/50\n",
      " - 9s - loss: 0.0113\n",
      "Epoch 35/50\n",
      " - 9s - loss: 0.0103\n",
      "Epoch 36/50\n",
      " - 9s - loss: 0.0106\n",
      "Epoch 37/50\n",
      " - 9s - loss: 0.0107\n",
      "Epoch 38/50\n",
      " - 9s - loss: 0.0097\n",
      "Epoch 39/50\n",
      " - 9s - loss: 0.0102\n",
      "Epoch 40/50\n",
      " - 9s - loss: 0.0098\n",
      "Epoch 41/50\n",
      " - 9s - loss: 0.0097\n",
      "Epoch 42/50\n",
      " - 9s - loss: 0.0104\n",
      "Epoch 43/50\n",
      " - 9s - loss: 0.0098\n",
      "Epoch 44/50\n",
      " - 9s - loss: 0.0097\n",
      "Epoch 45/50\n",
      " - 9s - loss: 0.0100\n",
      "Epoch 46/50\n",
      " - 9s - loss: 0.0099\n",
      "Epoch 47/50\n",
      " - 9s - loss: 0.0103\n",
      "Epoch 48/50\n",
      " - 9s - loss: 0.0102\n",
      "Epoch 49/50\n",
      " - 10s - loss: 0.0100\n",
      "Epoch 50/50\n",
      " - 9s - loss: 0.0095\n"
     ]
    },
    {
     "data": {
      "text/plain": [
       "<keras.callbacks.callbacks.History at 0x7f017c095350>"
      ]
     },
     "execution_count": 78,
     "metadata": {},
     "output_type": "execute_result"
    }
   ],
   "source": [
    "gru_model.fit(trainX, trainY, epochs=50, batch_size=1, verbose=2)"
   ]
  },
  {
   "cell_type": "code",
   "execution_count": 79,
   "metadata": {},
   "outputs": [],
   "source": [
    "trainPredict = gru_model.predict(trainX)\n",
    "testPredict = gru_model.predict(testX)"
   ]
  },
  {
   "cell_type": "code",
   "execution_count": 87,
   "metadata": {},
   "outputs": [],
   "source": [
    "trainPredict = scaler.inverse_transform(trainPredict)\n",
    "testPredict = scaler.inverse_transform(testPredict)"
   ]
  },
  {
   "cell_type": "code",
   "execution_count": 98,
   "metadata": {},
   "outputs": [],
   "source": [
    "trainY = scaler.inverse_transform(trainY).T\n",
    "testY = scaler.inverse_transform(testY).T"
   ]
  },
  {
   "cell_type": "code",
   "execution_count": 99,
   "metadata": {},
   "outputs": [
    {
     "data": {
      "text/plain": [
       "((4491, 1), (1896, 1))"
      ]
     },
     "execution_count": 99,
     "metadata": {},
     "output_type": "execute_result"
    }
   ],
   "source": [
    "trainPredict.shape, testPredict.shape"
   ]
  },
  {
   "cell_type": "code",
   "execution_count": 100,
   "metadata": {},
   "outputs": [
    {
     "data": {
      "text/plain": [
       "((1, 4491), (1, 1896))"
      ]
     },
     "execution_count": 100,
     "metadata": {},
     "output_type": "execute_result"
    }
   ],
   "source": [
    "trainY.shape, testY.shape"
   ]
  },
  {
   "cell_type": "code",
   "execution_count": 101,
   "metadata": {},
   "outputs": [
    {
     "name": "stdout",
     "output_type": "stream",
     "text": [
      "Train Score: 0.48 RMSE\n",
      "Test score: 0.01 RMSE\n"
     ]
    }
   ],
   "source": [
    "trainScore = math.sqrt(mean_squared_error(trainY[0], trainPredict[:,0]))\n",
    "print('Train Score: %.2f RMSE' %(trainScore))\n",
    "testScore = math.sqrt(mean_squared_error(testY[0], testPredict[:,0]))\n",
    "print('Test score: %.2f RMSE' %(testScore))"
   ]
  },
  {
   "cell_type": "code",
   "execution_count": 102,
   "metadata": {},
   "outputs": [],
   "source": [
    "trainPredictPlot = np.empty_like(dataset)\n",
    "trainPredictPlot[:,:] = np.nan\n",
    "trainPredictPlot[lookback:len(trainPredict)+lookback, :] = trainPredict"
   ]
  },
  {
   "cell_type": "code",
   "execution_count": 103,
   "metadata": {},
   "outputs": [],
   "source": [
    "testPredictPlot = np.empty_like(dataset)\n",
    "testPredictPlot[:,:] = np.nan\n",
    "testPredictPlot[len(trainPredict)+(lookback*2)+1:len(dataset)-1, :] = testPredict"
   ]
  },
  {
   "cell_type": "code",
   "execution_count": 105,
   "metadata": {},
   "outputs": [
    {
     "data": {
      "image/png": "[encoded data removed]",
      "text/plain": [
       "<Figure size 432x288 with 1 Axes>"
      ]
     },
     "metadata": {
      "needs_background": "light"
     },
     "output_type": "display_data"
    }
   ],
   "source": [
    "#plt.plot(ankledata)\n",
    "plt.plot(trainPredictPlot, color='blue')\n",
    "plt.plot(testPredictPlot, color='green')\n",
    "plt.show()"
   ]
  },
  {
   "cell_type": "code",
   "execution_count": null,
   "metadata": {},
   "outputs": [],
   "source": []
  },
  {
   "cell_type": "code",
   "execution_count": null,
   "metadata": {},
   "outputs": [],
   "source": []
  }
 ],
 "metadata": {
  "kernelspec": {
   "display_name": "Python 3",
   "language": "python",
   "name": "python3"
  },
  "language_info": {
   "codemirror_mode": {
    "name": "ipython",
    "version": 3
   },
   "file_extension": ".py",
   "mimetype": "text/x-python",
   "name": "python",
   "nbconvert_exporter": "python",
   "pygments_lexer": "ipython3",
   "version": "3.7.6"
  }
 },
 "nbformat": 4,
 "nbformat_minor": 4
}
